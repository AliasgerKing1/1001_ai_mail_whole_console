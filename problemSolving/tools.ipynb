{
 "cells": [
  {
   "attachments": {},
   "cell_type": "markdown",
   "metadata": {},
   "source": [
    "Clone all content of any folder to any file"
   ]
  },
  {
   "cell_type": "code",
   "execution_count": 6,
   "metadata": {},
   "outputs": [],
   "source": [
    "import os\n",
    "folder_path = r'C:\\\\\\Users\\\\Aliasger B\\\\1001_current\\\\problemSolving\\\\math\\\\MATH\\\\test\\\\precalculus'\n",
    "specific_file = r'C:\\\\Users\\\\Aliasger B\\\\1001_current\\\\problemSolving\\\\testProblems.json'\n",
    "for filename in os.listdir(folder_path):\n",
    "    file_path = os.path.join(folder_path, filename)\n",
    "    \n",
    "    # Check if the item is a file (not a subdirectory)\n",
    "    if os.path.isfile(file_path):\n",
    "        with open(file_path, 'r') as file:\n",
    "            file_content = file.read()\n",
    "            \n",
    "            # Add a comma to the end of the text\n",
    "            modified_content = file_content + \",\"\n",
    "            \n",
    "            # Append the modified content to the specific file\n",
    "            with open(specific_file, 'a') as output_file:\n",
    "                output_file.write(modified_content)\n",
    "\n"
   ]
  },
  {
   "cell_type": "code",
   "execution_count": null,
   "metadata": {},
   "outputs": [],
   "source": []
  }
 ],
 "metadata": {
  "kernelspec": {
   "display_name": "Python 3",
   "language": "python",
   "name": "python3"
  },
  "language_info": {
   "codemirror_mode": {
    "name": "ipython",
    "version": 3
   },
   "file_extension": ".py",
   "mimetype": "text/x-python",
   "name": "python",
   "nbconvert_exporter": "python",
   "pygments_lexer": "ipython3",
   "version": "3.11.4"
  },
  "orig_nbformat": 4
 },
 "nbformat": 4,
 "nbformat_minor": 2
}
